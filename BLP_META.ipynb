{
 "cells": [
  {
   "cell_type": "code",
   "execution_count": 7,
   "metadata": {},
   "outputs": [],
   "source": [
    "from operator import add\n",
    "from functools import reduce\n",
    "\n",
    "from collections import deque\n",
    "import queue\n",
    "\n",
    "import math"
   ]
  },
  {
   "cell_type": "markdown",
   "metadata": {},
   "source": [
    "# A very big sum"
   ]
  },
  {
   "cell_type": "code",
   "execution_count": 8,
   "metadata": {},
   "outputs": [
    {
     "data": {
      "text/plain": [
       "4950"
      ]
     },
     "execution_count": 8,
     "metadata": {},
     "output_type": "execute_result"
    }
   ],
   "source": [
    "def sum_elements(l):\n",
    "    return reduce(add, l)\n",
    "\n",
    "sum_elements(range(100))"
   ]
  },
  {
   "cell_type": "markdown",
   "metadata": {},
   "source": [
    "# Left rotation"
   ]
  },
  {
   "cell_type": "code",
   "execution_count": 9,
   "metadata": {},
   "outputs": [],
   "source": [
    "def rotLeft(a, d):\n",
    "    # Write your code here\n",
    "    return a[d:]+a[:d]"
   ]
  },
  {
   "cell_type": "markdown",
   "metadata": {},
   "source": [
    "# Insert a node at a specific position in a linked list"
   ]
  },
  {
   "cell_type": "code",
   "execution_count": 10,
   "metadata": {},
   "outputs": [],
   "source": [
    "def insertNodeAtPosition(head, data, position):\n",
    "    node = head\n",
    "    if position == 0:\n",
    "        newNode = SinglyLinkedListNode(data)\n",
    "        newNode.next = head\n",
    "        return newNode\n",
    "    count = 1\n",
    "    while count < position and node:\n",
    "        count += 1\n",
    "        node = node.next\n",
    "    newNode = SinglyLinkedListNode(data)\n",
    "    newNode.next = node.next\n",
    "    node.next = newNode\n",
    "    return head\n"
   ]
  },
  {
   "cell_type": "markdown",
   "metadata": {},
   "source": [
    "# Cycle Detection"
   ]
  },
  {
   "cell_type": "code",
   "execution_count": 11,
   "metadata": {},
   "outputs": [],
   "source": [
    "def has_cycle(head):\n",
    "    if type(head.next) != int:\n",
    "        return 0\n",
    "    elif head > head.next:\n",
    "        return 1\n",
    "    else:\n",
    "        head = head.next\n",
    "        return has_cycle(head.next)"
   ]
  },
  {
   "cell_type": "code",
   "execution_count": 12,
   "metadata": {},
   "outputs": [],
   "source": [
    "def has_cycle(head):\n",
    "    if (head == None):\n",
    "        return False\n",
    "    else:\n",
    "        slow = head\n",
    "        fast = head.next\n",
    "        #At some point fast catches up to slow if CYCLE!\n",
    "        while (slow != fast) :\n",
    "            if (fast == None or fast.next == None):\n",
    "                return False\n",
    "            else:\n",
    "                slow = slow.next;\n",
    "                fast = fast.next.next;\n",
    "        return True"
   ]
  },
  {
   "cell_type": "markdown",
   "metadata": {},
   "source": [
    "# Designer PDF Viewer"
   ]
  },
  {
   "cell_type": "code",
   "execution_count": 13,
   "metadata": {},
   "outputs": [],
   "source": [
    "def designerPdfViewer(h, word):\n",
    "    # Write your code here\n",
    "    'https://www.youtube.com/watch?v=4UfzucxZxnw'\n",
    "    delta = ord('a')\n",
    "    myMax = 0\n",
    "    for letter in word:\n",
    "        myMax = max(myMax, h[ord(letter)-delta])\n",
    "    return len(word)*myMax"
   ]
  },
  {
   "cell_type": "markdown",
   "metadata": {},
   "source": [
    "# Balanced Brackets"
   ]
  },
  {
   "cell_type": "code",
   "execution_count": 14,
   "metadata": {},
   "outputs": [],
   "source": [
    "#!/bin/python3\n",
    "\n",
    "import math\n",
    "import os\n",
    "import random\n",
    "import re\n",
    "import sys\n",
    "\n",
    "#\n",
    "# Complete the 'isBalanced' function below.\n",
    "#\n",
    "# The function is expected to return a STRING.\n",
    "# The function accepts STRING s as parameter.\n",
    "#\n",
    "\n",
    "def isBalanced(s):\n",
    "    # Write your code here\n",
    "    n = -1\n",
    "    while len(s) != n:\n",
    "        n = len(s)\n",
    "        s = s.replace('()', '')\n",
    "        s = s.replace('[]', '')\n",
    "        s = s.replace('{}', '');\n",
    "\n",
    "    if (len(s) == 0):\n",
    "        return \"YES\"\n",
    "    else:\n",
    "        return \"NO\""
   ]
  },
  {
   "cell_type": "markdown",
   "metadata": {},
   "source": [
    "# Queue using Two Stacks"
   ]
  },
  {
   "cell_type": "code",
   "execution_count": 15,
   "metadata": {},
   "outputs": [],
   "source": [
    "# Enter your code here. Read input from STDIN. Print output to STDOUT\n",
    "\n",
    "# class MyQueue(object):\n",
    "#     def __init__(self):\n",
    "#         self.data = []\n",
    "\n",
    "#     def peek(self):\n",
    "#         return self.data[0]\n",
    "\n",
    "#     def pop(self):\n",
    "#         value = self.data[0]\n",
    "#         del self.data[0]\n",
    "#         return value\n",
    "\n",
    "#     def put(self, value):\n",
    "#         self.data.append(value)\n",
    "\n",
    "\n",
    "# queue = MyQueue()\n",
    "# t = int(input())\n",
    "# for line in range(t):\n",
    "#     values = map(int, input().split())\n",
    "#     values = list(values)\n",
    "#     if values[0] == 1:\n",
    "#         queue.put(values[1])\n",
    "#     elif values[0] == 2:\n",
    "#         queue.pop()\n",
    "#     else:\n",
    "#         print(queue.peek())\n"
   ]
  },
  {
   "cell_type": "markdown",
   "metadata": {},
   "source": [
    "Input Format\n",
    "\n",
    "The first line contains a single integer, *q*, denoting the number of queries.\n",
    "Each line  of the  subsequent lines contains a single query in the form described in the problem statement above. All three queries start with an integer denoting the query , but only query  is followed by an additional space-separated value, , denoting the value to be enqueued."
   ]
  },
  {
   "cell_type": "code",
   "execution_count": 35,
   "metadata": {},
   "outputs": [],
   "source": [
    "# myQueue = queue.Queue()\n",
    "# q = int(input())\n",
    "# benchmark = None\n",
    "\n",
    "# for line in range(q):\n",
    "#     values =list( map(int, input().split()) )\n",
    "#     if values[0]==1:\n",
    "#         myQueue.put(values[1])\n",
    "#     elif values[0]==2:\n",
    "#         myQueue.get()\n",
    "#     else:\n",
    "#         print(myQueue.queue[0])"
   ]
  },
  {
   "cell_type": "markdown",
   "metadata": {},
   "source": [
    "# Hash map- Ice Cream Parlor"
   ]
  },
  {
   "cell_type": "code",
   "execution_count": 1,
   "metadata": {},
   "outputs": [],
   "source": [
    "#https://medium.com/@xww0701/hackerrank-hash-tables-ice-cream-parlor-python-solution-fac434523ec7\n",
    "\n",
    "def icecreamParlor(m, arr):\n",
    "    # Write your code here\n",
    "    \n",
    "    n = len(arr)\n",
    "    output=''\n",
    "    for i in range(len(arr)-1):\n",
    "        if  m-arr[i] in arr[i+1:]:\n",
    "            results = i+1, arr[i+1:].index(m-arr[i]) + i +2\n",
    "            return results\n",
    "    return output"
   ]
  },
  {
   "cell_type": "markdown",
   "metadata": {},
   "source": [
    "# Insertion Sort - Part 1"
   ]
  },
  {
   "cell_type": "code",
   "execution_count": 7,
   "metadata": {},
   "outputs": [],
   "source": [
    "def insertionSort1(n, arr):\n",
    "    # Write your code here\n",
    "\n",
    "    soln = sorted(arr)\n",
    "    \n",
    "    current = arr\n",
    "    i=1\n",
    "    n = len(arr)\n",
    "    k = arr[-1]\n",
    "    while (current != soln) and i<n:\n",
    "        if k< current[-(i+1)]:\n",
    "            current[-i] = current[-(i+1)]\n",
    "            print (*current)\n",
    "        else:\n",
    "            current[-i] = k\n",
    "            print (*current)\n",
    "            return\n",
    "        i+=1\n",
    "    \n",
    "    print (*soln)\n",
    "    return"
   ]
  },
  {
   "cell_type": "markdown",
   "metadata": {},
   "source": [
    "# Insert a node at a specific position in a linked list"
   ]
  },
  {
   "cell_type": "code",
   "execution_count": 8,
   "metadata": {},
   "outputs": [],
   "source": [
    "def insertNodeAtPosition(head, data, position):\n",
    "    node = head\n",
    "    if position == 0:\n",
    "        newNode = SinglyLinkedListNode(data)\n",
    "        newNode.next = head\n",
    "        return newNode\n",
    "    count = 1\n",
    "    while count < position and node:\n",
    "        count += 1\n",
    "        node = node.next\n",
    "    newNode = SinglyLinkedListNode(data)\n",
    "    newNode.next = node.next\n",
    "    node.next = newNode\n",
    "    return head"
   ]
  },
  {
   "cell_type": "code",
   "execution_count": null,
   "metadata": {},
   "outputs": [],
   "source": []
  }
 ],
 "metadata": {
  "kernelspec": {
   "display_name": "Python 3",
   "language": "python",
   "name": "python3"
  },
  "language_info": {
   "codemirror_mode": {
    "name": "ipython",
    "version": 3
   },
   "file_extension": ".py",
   "mimetype": "text/x-python",
   "name": "python",
   "nbconvert_exporter": "python",
   "pygments_lexer": "ipython3",
   "version": "3.7.9"
  }
 },
 "nbformat": 4,
 "nbformat_minor": 4
}
