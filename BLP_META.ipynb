{
 "cells": [
  {
   "cell_type": "code",
   "execution_count": 21,
   "metadata": {},
   "outputs": [],
   "source": [
    "from operator import add\n",
    "from functools import reduce\n",
    "\n",
    "from collections import deque\n",
    "import queue\n",
    "\n",
    "import math\n",
    "\n",
    "import itertools as it"
   ]
  },
  {
   "cell_type": "markdown",
   "metadata": {},
   "source": [
    "# A very big sum"
   ]
  },
  {
   "cell_type": "code",
   "execution_count": 8,
   "metadata": {},
   "outputs": [
    {
     "data": {
      "text/plain": [
       "4950"
      ]
     },
     "execution_count": 8,
     "metadata": {},
     "output_type": "execute_result"
    }
   ],
   "source": [
    "def sum_elements(l):\n",
    "    return reduce(add, l)\n",
    "\n",
    "sum_elements(range(100))"
   ]
  },
  {
   "cell_type": "markdown",
   "metadata": {},
   "source": [
    "# Left rotation"
   ]
  },
  {
   "cell_type": "code",
   "execution_count": 9,
   "metadata": {},
   "outputs": [],
   "source": [
    "def rotLeft(a, d):\n",
    "    # Write your code here\n",
    "    return a[d:]+a[:d]"
   ]
  },
  {
   "cell_type": "markdown",
   "metadata": {},
   "source": [
    "# Insert a node at a specific position in a linked list"
   ]
  },
  {
   "cell_type": "code",
   "execution_count": 10,
   "metadata": {},
   "outputs": [],
   "source": [
    "def insertNodeAtPosition(head, data, position):\n",
    "    node = head\n",
    "    if position == 0:\n",
    "        newNode = SinglyLinkedListNode(data)\n",
    "        newNode.next = head\n",
    "        return newNode\n",
    "    count = 1\n",
    "    while count < position and node:\n",
    "        count += 1\n",
    "        node = node.next\n",
    "    newNode = SinglyLinkedListNode(data)\n",
    "    newNode.next = node.next\n",
    "    node.next = newNode\n",
    "    return head\n"
   ]
  },
  {
   "cell_type": "markdown",
   "metadata": {},
   "source": [
    "# Cycle Detection\n",
    "\n",
    "https://www.hackerrank.com/challenges/detect-whether-a-linked-list-contains-a-cycle/problem"
   ]
  },
  {
   "cell_type": "code",
   "execution_count": 1,
   "metadata": {},
   "outputs": [],
   "source": [
    "def has_cycle(head):\n",
    "    if type(head.next) != int:\n",
    "        return 0\n",
    "    elif head > head.next:\n",
    "        return 1\n",
    "    else:\n",
    "        head = head.next\n",
    "        return has_cycle(head.next)"
   ]
  },
  {
   "cell_type": "code",
   "execution_count": 2,
   "metadata": {},
   "outputs": [],
   "source": [
    "def has_cycle(head):\n",
    "    if (head == None):\n",
    "        return False\n",
    "    else:\n",
    "        slow = head\n",
    "        fast = head.next\n",
    "        #At some point fast catches up to slow if CYCLE!\n",
    "        while (slow != fast) :\n",
    "            if (fast == None or fast.next == None):\n",
    "                return False\n",
    "            else:\n",
    "                slow = slow.next;\n",
    "                fast = fast.next.next;\n",
    "        return True"
   ]
  },
  {
   "cell_type": "markdown",
   "metadata": {},
   "source": [
    "# Designer PDF Viewer"
   ]
  },
  {
   "cell_type": "code",
   "execution_count": 13,
   "metadata": {},
   "outputs": [],
   "source": [
    "def designerPdfViewer(h, word):\n",
    "    # Write your code here\n",
    "    'https://www.youtube.com/watch?v=4UfzucxZxnw'\n",
    "    delta = ord('a')\n",
    "    myMax = 0\n",
    "    for letter in word:\n",
    "        myMax = max(myMax, h[ord(letter)-delta])\n",
    "    return len(word)*myMax"
   ]
  },
  {
   "cell_type": "markdown",
   "metadata": {},
   "source": [
    "# Balanced Brackets"
   ]
  },
  {
   "cell_type": "code",
   "execution_count": 14,
   "metadata": {},
   "outputs": [],
   "source": [
    "#!/bin/python3\n",
    "\n",
    "import math\n",
    "import os\n",
    "import random\n",
    "import re\n",
    "import sys\n",
    "\n",
    "#\n",
    "# Complete the 'isBalanced' function below.\n",
    "#\n",
    "# The function is expected to return a STRING.\n",
    "# The function accepts STRING s as parameter.\n",
    "#\n",
    "\n",
    "def isBalanced(s):\n",
    "    # Write your code here\n",
    "    n = -1\n",
    "    while len(s) != n:\n",
    "        n = len(s)\n",
    "        s = s.replace('()', '')\n",
    "        s = s.replace('[]', '')\n",
    "        s = s.replace('{}', '');\n",
    "\n",
    "    if (len(s) == 0):\n",
    "        return \"YES\"\n",
    "    else:\n",
    "        return \"NO\""
   ]
  },
  {
   "cell_type": "markdown",
   "metadata": {},
   "source": [
    "# Queue using Two Stacks"
   ]
  },
  {
   "cell_type": "code",
   "execution_count": 15,
   "metadata": {},
   "outputs": [],
   "source": [
    "# Enter your code here. Read input from STDIN. Print output to STDOUT\n",
    "\n",
    "# class MyQueue(object):\n",
    "#     def __init__(self):\n",
    "#         self.data = []\n",
    "\n",
    "#     def peek(self):\n",
    "#         return self.data[0]\n",
    "\n",
    "#     def pop(self):\n",
    "#         value = self.data[0]\n",
    "#         del self.data[0]\n",
    "#         return value\n",
    "\n",
    "#     def put(self, value):\n",
    "#         self.data.append(value)\n",
    "\n",
    "\n",
    "# queue = MyQueue()\n",
    "# t = int(input())\n",
    "# for line in range(t):\n",
    "#     values = map(int, input().split())\n",
    "#     values = list(values)\n",
    "#     if values[0] == 1:\n",
    "#         queue.put(values[1])\n",
    "#     elif values[0] == 2:\n",
    "#         queue.pop()\n",
    "#     else:\n",
    "#         print(queue.peek())\n"
   ]
  },
  {
   "cell_type": "markdown",
   "metadata": {},
   "source": [
    "Input Format\n",
    "\n",
    "The first line contains a single integer, *q*, denoting the number of queries.\n",
    "Each line  of the  subsequent lines contains a single query in the form described in the problem statement above. All three queries start with an integer denoting the query , but only query  is followed by an additional space-separated value, , denoting the value to be enqueued."
   ]
  },
  {
   "cell_type": "code",
   "execution_count": 35,
   "metadata": {},
   "outputs": [],
   "source": [
    "# myQueue = queue.Queue()\n",
    "# q = int(input())\n",
    "# benchmark = None\n",
    "\n",
    "# for line in range(q):\n",
    "#     values =list( map(int, input().split()) )\n",
    "#     if values[0]==1:\n",
    "#         myQueue.put(values[1])\n",
    "#     elif values[0]==2:\n",
    "#         myQueue.get()\n",
    "#     else:\n",
    "#         print(myQueue.queue[0])"
   ]
  },
  {
   "cell_type": "markdown",
   "metadata": {},
   "source": [
    "# Hash map- Ice Cream Parlor"
   ]
  },
  {
   "cell_type": "code",
   "execution_count": 1,
   "metadata": {},
   "outputs": [],
   "source": [
    "#https://medium.com/@xww0701/hackerrank-hash-tables-ice-cream-parlor-python-solution-fac434523ec7\n",
    "\n",
    "def icecreamParlor(m, arr):\n",
    "    # Write your code here\n",
    "    \n",
    "    n = len(arr)\n",
    "    output=''\n",
    "    for i in range(len(arr)-1):\n",
    "        if  m-arr[i] in arr[i+1:]:\n",
    "            results = i+1, arr[i+1:].index(m-arr[i]) + i +2\n",
    "            return results\n",
    "    return output"
   ]
  },
  {
   "cell_type": "markdown",
   "metadata": {},
   "source": [
    "# Insertion Sort - Part 1"
   ]
  },
  {
   "cell_type": "code",
   "execution_count": 7,
   "metadata": {},
   "outputs": [],
   "source": [
    "def insertionSort1(n, arr):\n",
    "    # Write your code here\n",
    "\n",
    "    soln = sorted(arr)\n",
    "    \n",
    "    current = arr\n",
    "    i=1\n",
    "    n = len(arr)\n",
    "    k = arr[-1]\n",
    "    while (current != soln) and i<n:\n",
    "        if k< current[-(i+1)]:\n",
    "            current[-i] = current[-(i+1)]\n",
    "            print (*current)\n",
    "        else:\n",
    "            current[-i] = k\n",
    "            print (*current)\n",
    "            return\n",
    "        i+=1\n",
    "    \n",
    "    print (*soln)\n",
    "    return"
   ]
  },
  {
   "cell_type": "markdown",
   "metadata": {},
   "source": [
    "# Insert a node at a specific position in a linked list"
   ]
  },
  {
   "cell_type": "code",
   "execution_count": 8,
   "metadata": {},
   "outputs": [],
   "source": [
    "def insertNodeAtPosition(head, data, position):\n",
    "    node = head\n",
    "    if position == 0:\n",
    "        newNode = SinglyLinkedListNode(data)\n",
    "        newNode.next = head\n",
    "        return newNode\n",
    "    count = 1\n",
    "    while count < position and node:\n",
    "        count += 1\n",
    "        node = node.next\n",
    "    newNode = SinglyLinkedListNode(data)\n",
    "    newNode.next = node.next\n",
    "    node.next = newNode\n",
    "    return head"
   ]
  },
  {
   "cell_type": "markdown",
   "metadata": {},
   "source": [
    "# Insertion Sort - Part 2"
   ]
  },
  {
   "cell_type": "code",
   "execution_count": null,
   "metadata": {},
   "outputs": [],
   "source": [
    "def insertionSort1(arr):\n",
    "    # Write your code here\n",
    "\n",
    "    soln = sorted(arr)\n",
    "    \n",
    "    current = arr\n",
    "    i=1\n",
    "    n = len(arr)\n",
    "    k = arr[-1]\n",
    "    while (current != soln) and i<n:\n",
    "        if k< current[-(i+1)]:\n",
    "            current[-i] = current[-(i+1)]\n",
    "            return current\n",
    "        else:\n",
    "            current[-i] = k\n",
    "            return current\n",
    "        i+=1\n",
    "    \n",
    "    return soln\n",
    "\n",
    "def insertionSort2(n, arr):\n",
    "    # Write your code here\n",
    "    \n",
    "    for i in range(1,n):\n",
    "        partialSort = insertionSort1(arr[:i])\n",
    "        mySort = partialSort + arr[i:]\n",
    "        print(*mySort) \n",
    "    return"
   ]
  },
  {
   "cell_type": "markdown",
   "metadata": {},
   "source": [
    "# Tree: Huffman Decoding"
   ]
  },
  {
   "cell_type": "code",
   "execution_count": null,
   "metadata": {},
   "outputs": [],
   "source": [
    "# import queue as Queue\n",
    "\n",
    "# cntr = 0\n",
    "\n",
    "# class Node:\n",
    "#     def __init__(self, freq, data):\n",
    "#         self.freq = freq\n",
    "#         self.data = data\n",
    "#         self.left = None\n",
    "#         self.right = None\n",
    "#         global cntr\n",
    "#         self._count = cntr\n",
    "#         cntr = cntr + 1\n",
    "        \n",
    "#     def __lt__(self, other):\n",
    "#         if self.freq != other.freq:\n",
    "#             return self.freq < other.freq\n",
    "#         return self._count < other._count\n",
    "\n",
    "# def huffman_hidden():#builds the tree and returns root\n",
    "#     q = Queue.PriorityQueue()\n",
    "\n",
    "    \n",
    "#     for key in freq:\n",
    "#         q.put((freq[key], key, Node(freq[key], key) ))\n",
    "    \n",
    "#     while q.qsize() != 1:\n",
    "#         a = q.get()\n",
    "#         b = q.get()\n",
    "#         obj = Node(a[0] + b[0], '\\0' )\n",
    "#         obj.left = a[2]\n",
    "#         obj.right = b[2]\n",
    "#         q.put((obj.freq, obj.data, obj ))\n",
    "        \n",
    "#     root = q.get()\n",
    "#     root = root[2]#contains root object\n",
    "#     return root\n",
    "\n",
    "# def dfs_hidden(obj, already):\n",
    "#     if(obj == None):\n",
    "#         return\n",
    "#     elif(obj.data != '\\0'):\n",
    "#         code_hidden[obj.data] = already\n",
    "        \n",
    "#     dfs_hidden(obj.right, already + \"1\")\n",
    "#     dfs_hidden(obj.left, already + \"0\")\n",
    "\n",
    "# \"\"\"class Node:\n",
    "#     def __init__(self, freq,data):\n",
    "#         self.freq= freq\n",
    "#         self.data=data\n",
    "#         self.left = None\n",
    "#         self.right = None\n",
    "# \"\"\"        \n",
    "\n",
    "# Enter your code here. Read input from STDIN. Print output to STDOUT\n",
    "def decodeHuff(root, s):\n",
    "    #Enter Your Code Here\n",
    "    \n",
    "    code = ''\n",
    "    start = 0 \n",
    "    end = 0\n",
    "    n = len(s)\n",
    "    node = root\n",
    "    #print(node.left.data)\n",
    "    while end < n:\n",
    "        # print(code)\n",
    "        # print(end)\n",
    "        \n",
    "        if node.left or node.right:\n",
    "            if s[end] == '0':\n",
    "                node = node.left\n",
    "            else:#=1\n",
    "                node = node.right\n",
    "            end+=1\n",
    "        else:#stop letter\n",
    "            # print('stop letter')\n",
    "            code = code + node.data\n",
    "            node = root\n",
    "    code = code + node.data#Last potential letter excluded from loop\n",
    "    print (code)\n",
    "                \n",
    "        \n",
    "# ip = input()\n",
    "# freq = {}#maps each character to its frequency\n",
    "\n",
    "# cntr = 0\n",
    "\n",
    "# for ch in ip:\n",
    "#     if(freq.get(ch) == None):\n",
    "#         freq[ch] = 1\n",
    "#     else:\n",
    "#         freq[ch]+=1\n",
    "\n",
    "# root = huffman_hidden()#contains root of huffman tree\n",
    "\n",
    "# code_hidden = {}#contains code for each object\n",
    "\n",
    "# dfs_hidden(root, \"\")\n",
    "\n",
    "# if len(code_hidden) == 1:#if there is only one character in the i/p\n",
    "#     for key in code_hidden:\n",
    "#         code_hidden[key] = \"0\"\n",
    "\n",
    "# toBeDecoded = \"\"\n",
    "\n",
    "# for ch in ip:\n",
    "#    toBeDecoded += code_hidden[ch]\n",
    "\n",
    "# decodeHuff(root, toBeDecoded)\n"
   ]
  },
  {
   "cell_type": "markdown",
   "metadata": {},
   "source": [
    "# Binary Search Tree: Insertion"
   ]
  },
  {
   "cell_type": "code",
   "execution_count": 2,
   "metadata": {},
   "outputs": [],
   "source": [
    "class Node:\n",
    "    def __init__(self, info):\n",
    "        self.info = info  \n",
    "        self.left = None  \n",
    "        self.right = None \n",
    "        self.level = None \n",
    "\n",
    "    def __str__(self):\n",
    "        return str(self.info) \n",
    "\n",
    "def preOrder(root):\n",
    "    if root == None:\n",
    "        return\n",
    "    print (root.info, end=\" \")\n",
    "    preOrder(root.left)\n",
    "    preOrder(root.right)\n",
    "    \n",
    "class BinarySearchTree:\n",
    "    def __init__(self): \n",
    "        self.root = None\n",
    "\n",
    "    def insert(self, val):\n",
    "        if not self.root:\n",
    "            self.root = Node(val)\n",
    "        else:\n",
    "            node = self.root\n",
    "            while(True):\n",
    "                if (node.info>val):\n",
    "                    if node.left:\n",
    "                        node = node.left\n",
    "                    else:\n",
    "                        node.left = Node(val)\n",
    "                        return\n",
    "                else:\n",
    "                    if node.right:\n",
    "                        node = node.right\n",
    "                    else:\n",
    "                        node.right = Node(val)\n",
    "                        return\n",
    "\n",
    "tree = BinarySearchTree()\n",
    "t = int(input())\n",
    "\n",
    "arr = list(map(int, input().split()))\n",
    "\n",
    "for i in range(t):\n",
    "    tree.insert(arr[i])\n",
    "\n",
    "preOrder(tree.root)\n"
   ]
  },
  {
   "cell_type": "markdown",
   "metadata": {},
   "source": [
    "# Tree: Height of a Binary Tree"
   ]
  },
  {
   "cell_type": "code",
   "execution_count": 1,
   "metadata": {},
   "outputs": [],
   "source": [
    "def height(root):\n",
    "    count = 0\n",
    "    node = root\n",
    "    while (node.right != None) or (node.left != None):\n",
    "        count += 1\n",
    "        if (node.right != None):\n",
    "            node = node.right\n",
    "        else: #node.left != None\n",
    "            node = node.left\n",
    "    return count"
   ]
  },
  {
   "cell_type": "markdown",
   "metadata": {},
   "source": [
    "# Colorful Numbers\n",
    "\n",
    "https://tutorialhorizon.com/algorithms/colorful-numbers/"
   ]
  },
  {
   "cell_type": "code",
   "execution_count": 59,
   "metadata": {},
   "outputs": [
    {
     "name": "stdout",
     "output_type": "stream",
     "text": [
      "1\n",
      "1\n",
      "len: 1\n",
      "1\n"
     ]
    },
    {
     "ename": "TypeError",
     "evalue": "'int' object is not iterable",
     "output_type": "error",
     "traceback": [
      "\u001b[0;31m---------------------------------------------------------------------------\u001b[0m",
      "\u001b[0;31mTypeError\u001b[0m                                 Traceback (most recent call last)",
      "\u001b[0;32m<ipython-input-59-6774e03440c4>\u001b[0m in \u001b[0;36m<module>\u001b[0;34m\u001b[0m\n\u001b[1;32m     40\u001b[0m \u001b[0;34m\u001b[0m\u001b[0m\n\u001b[1;32m     41\u001b[0m \u001b[0;34m\u001b[0m\u001b[0m\n\u001b[0;32m---> 42\u001b[0;31m \u001b[0misColorfulNumber\u001b[0m\u001b[0;34m(\u001b[0m\u001b[0;36m1223\u001b[0m\u001b[0;34m)\u001b[0m\u001b[0;34m\u001b[0m\u001b[0;34m\u001b[0m\u001b[0m\n\u001b[0m",
      "\u001b[0;32m<ipython-input-59-6774e03440c4>\u001b[0m in \u001b[0;36misColorfulNumber\u001b[0;34m(number)\u001b[0m\n\u001b[1;32m     22\u001b[0m             \u001b[0mprint\u001b[0m\u001b[0;34m(\u001b[0m \u001b[0mmystr\u001b[0m\u001b[0;34m[\u001b[0m\u001b[0mj\u001b[0m\u001b[0;34m:\u001b[0m\u001b[0mj\u001b[0m\u001b[0;34m+\u001b[0m\u001b[0mi\u001b[0m\u001b[0;34m]\u001b[0m \u001b[0;34m)\u001b[0m\u001b[0;34m\u001b[0m\u001b[0;34m\u001b[0m\u001b[0m\n\u001b[1;32m     23\u001b[0m             \u001b[0mmyNum\u001b[0m \u001b[0;34m=\u001b[0m \u001b[0mint\u001b[0m\u001b[0;34m(\u001b[0m\u001b[0mmystr\u001b[0m\u001b[0;34m[\u001b[0m\u001b[0mj\u001b[0m\u001b[0;34m:\u001b[0m\u001b[0mj\u001b[0m\u001b[0;34m+\u001b[0m\u001b[0mi\u001b[0m\u001b[0;34m]\u001b[0m\u001b[0;34m)\u001b[0m\u001b[0;34m\u001b[0m\u001b[0;34m\u001b[0m\u001b[0m\n\u001b[0;32m---> 24\u001b[0;31m             \u001b[0mmyList\u001b[0m \u001b[0;34m+=\u001b[0m \u001b[0mpowSet\u001b[0m\u001b[0;34m(\u001b[0m \u001b[0mstr\u001b[0m\u001b[0;34m(\u001b[0m\u001b[0mmyNum\u001b[0m\u001b[0;34m)\u001b[0m \u001b[0;34m)\u001b[0m\u001b[0;34m\u001b[0m\u001b[0;34m\u001b[0m\u001b[0m\n\u001b[0m\u001b[1;32m     25\u001b[0m     \u001b[0mmySet\u001b[0m \u001b[0;34m=\u001b[0m \u001b[0mset\u001b[0m\u001b[0;34m(\u001b[0m\u001b[0mmyList\u001b[0m\u001b[0;34m)\u001b[0m\u001b[0;34m\u001b[0m\u001b[0;34m\u001b[0m\u001b[0m\n\u001b[1;32m     26\u001b[0m \u001b[0;34m\u001b[0m\u001b[0m\n",
      "\u001b[0;31mTypeError\u001b[0m: 'int' object is not iterable"
     ]
    }
   ],
   "source": [
    "#https://github.com/rsamit26/InterviewBit/blob/master/Python/Hashing/HashSearch/Colorful%20Number.py\n",
    "\n",
    "\n",
    "def powSet(num):\n",
    "    power = 1\n",
    "    print(num)\n",
    "    print(f'len: {len(num)}')\n",
    "    for letter in str(num):\n",
    "        print(letter)\n",
    "        power *=  int(letter)\n",
    "    return power\n",
    "\n",
    "def isColorfulNumber(number):\n",
    "    myList = []\n",
    "    mySet = set()\n",
    "    mystr = str(number)\n",
    "    n = len(mystr)\n",
    "    prod = []\n",
    "    \n",
    "    for i in range(1,n):\n",
    "        for j in range(0,n):\n",
    "            print( mystr[j:j+i] )\n",
    "            myNum = int(mystr[j:j+i])\n",
    "            myList += powSet( str(myNum) )\n",
    "    mySet = set(myList)\n",
    "    \n",
    "    if len(myList) != len(mySet):\n",
    "        return False\n",
    "    else:\n",
    "        for products in mySet:\n",
    "            power = 1\n",
    "            for aProd in products:\n",
    "                power *= int(aProd)\n",
    "            prod.append(power)\n",
    "    if len(set(prod)) != len(prod):\n",
    "        return False\n",
    "    else:\n",
    "        return True\n",
    "            \n",
    "            \n",
    "        \n",
    "isColorfulNumber(1223)"
   ]
  },
  {
   "cell_type": "code",
   "execution_count": null,
   "metadata": {},
   "outputs": [],
   "source": []
  }
 ],
 "metadata": {
  "kernelspec": {
   "display_name": "Python 3",
   "language": "python",
   "name": "python3"
  },
  "language_info": {
   "codemirror_mode": {
    "name": "ipython",
    "version": 3
   },
   "file_extension": ".py",
   "mimetype": "text/x-python",
   "name": "python",
   "nbconvert_exporter": "python",
   "pygments_lexer": "ipython3",
   "version": "3.7.9"
  }
 },
 "nbformat": 4,
 "nbformat_minor": 4
}
