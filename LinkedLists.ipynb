{
 "cells": [
  {
   "cell_type": "code",
   "execution_count": 6,
   "metadata": {},
   "outputs": [
    {
     "name": "stdout",
     "output_type": "stream",
     "text": [
      "3\n",
      "2\n",
      "1\n",
      "\n",
      "\n",
      "2\n",
      "1\n"
     ]
    }
   ],
   "source": [
    "#https://learning.oreilly.com/videos/designing-data-structures/9781491928622\n",
    "#Designing Data Structures in Python by George T. Heineman\n",
    "\n",
    "'''\n",
    "Write code to remove duplicates from an unsorted linked list\n",
    "\n",
    "FOLLOW UP\n",
    "How would you solve this problem if a temporary buffer is not allowed?\n",
    "'''\n",
    "\n",
    "class MyLinkedNode:# DEFINES ITER TYPELitt\n",
    "    def __init__(self, value, tail = None):\n",
    "        self.value = value\n",
    "        self.next = tail\n",
    "        \n",
    "class MyLinkedList:\n",
    "    def __init__(self,*start):\n",
    "        self.head = None\n",
    "        self.tail = None\n",
    "        self.count = 0\n",
    "        start= list(start)\n",
    "        start.reverse()\n",
    "        for _ in start:\n",
    "            self.prepend(_)\n",
    "            \n",
    "    def __iter__(self):#Otherwise won't be able to print each value\n",
    "        n = self.head\n",
    "        while n != None:\n",
    "            yield n.value\n",
    "            n = n.next\n",
    "            \n",
    "    def prepend(self, value):\n",
    "        self.head = MyLinkedNode(value, self.head)\n",
    "        self.count += 1\n",
    "    \n",
    "    def remove_first(self, value):\n",
    "        n = self.head\n",
    "        last = None #track if at the end\n",
    "        while n != None:\n",
    "            if n.value == value:\n",
    "                if last == None: #either first element match or end of linkedlist\n",
    "                    self.head = self.head.next\n",
    "                else:\n",
    "                    last.next = n.value #simply notes last value remove\n",
    "                self.count -=1\n",
    "                return True\n",
    "            \n",
    "            n=n.next\n",
    "        return False\n",
    "            \n",
    "            \n",
    "\n",
    "aLinkedList = MyLinkedList()\n",
    "aLinkedList.prepend(1)\n",
    "aLinkedList.prepend(2)\n",
    "aLinkedList.prepend(3)\n",
    "for _ in aLinkedList:\n",
    "    print(_)\n",
    "    \n",
    "print('\\n')\n",
    "\n",
    "aLinkedList.remove_first(2)\n",
    "for _ in aLinkedList:\n",
    "    print(_)"
   ]
  },
  {
   "cell_type": "code",
   "execution_count": 7,
   "metadata": {},
   "outputs": [
    {
     "data": {
      "text/plain": [
       "'\\nImplement an algorithm to find the nth to last element of a singly linked list.\\n'"
      ]
     },
     "execution_count": 7,
     "metadata": {},
     "output_type": "execute_result"
    }
   ],
   "source": [
    "'''\n",
    "Implement an algorithm to find the nth to last element of a singly linked list.\n",
    "'''"
   ]
  },
  {
   "cell_type": "code",
   "execution_count": null,
   "metadata": {},
   "outputs": [],
   "source": []
  }
 ],
 "metadata": {
  "kernelspec": {
   "display_name": "Python 3",
   "language": "python",
   "name": "python3"
  },
  "language_info": {
   "codemirror_mode": {
    "name": "ipython",
    "version": 3
   },
   "file_extension": ".py",
   "mimetype": "text/x-python",
   "name": "python",
   "nbconvert_exporter": "python",
   "pygments_lexer": "ipython3",
   "version": "3.7.6"
  }
 },
 "nbformat": 4,
 "nbformat_minor": 4
}
