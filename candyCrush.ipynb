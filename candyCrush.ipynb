{
 "cells": [
  {
   "cell_type": "code",
   "execution_count": 2,
   "id": "7dc088a2",
   "metadata": {},
   "outputs": [],
   "source": [
    "test1 = [c for c in \"ABBBCC\"]\n",
    "test2 = [c for c in \"ABCCCBB\"]\n",
    "test3 = [c for c in \"ABCCCBBAAC\"]"
   ]
  },
  {
   "cell_type": "code",
   "execution_count": 73,
   "id": "f55f873a",
   "metadata": {},
   "outputs": [],
   "source": [
    "def candyCrush(aList):\n",
    "    change = False\n",
    "    endList = []\n",
    "    for i in range(len(aList)-2):\n",
    "        if aList[i] == aList[i+1] and aList[i+1] == aList[i+2]:\n",
    "            change = True\n",
    "        elif aList[i] == aList[i-1] and aList[i] == aList[i+1]:\n",
    "            change = True\n",
    "        elif aList[i] == aList[i-1] and aList[i] == aList[i-2]:\n",
    "            change = True\n",
    "        else:\n",
    "            endList.append(aList[i])\n",
    "    pre_endList = aList[-2:]\n",
    "    if pre_endList[0] == pre_endList[1] and pre_endList[0] != endList[-1]:\n",
    "        endList.extend(pre_endList)\n",
    "        return endList\n",
    "    elif change == True:\n",
    "        endList.extend(pre_endList)\n",
    "        return candyCrush(endList)\n",
    "    return endList\n"
   ]
  },
  {
   "cell_type": "code",
   "execution_count": 74,
   "id": "0bab4701",
   "metadata": {},
   "outputs": [
    {
     "ename": "NameError",
     "evalue": "name 'k' is not defined",
     "output_type": "error",
     "traceback": [
      "\u001b[0;31m---------------------------------------------------------------------------\u001b[0m",
      "\u001b[0;31mNameError\u001b[0m                                 Traceback (most recent call last)",
      "Cell \u001b[0;32mIn[74], line 1\u001b[0m\n\u001b[0;32m----> 1\u001b[0m \u001b[43mcandyCrush\u001b[49m\u001b[43m(\u001b[49m\u001b[43mtest1\u001b[49m\u001b[43m)\u001b[49m\n",
      "Cell \u001b[0;32mIn[73], line 7\u001b[0m, in \u001b[0;36mcandyCrush\u001b[0;34m(aList)\u001b[0m\n\u001b[1;32m      5\u001b[0m \u001b[38;5;28;01mif\u001b[39;00m stck \u001b[38;5;129;01mand\u001b[39;00m stck[\u001b[38;5;241m-\u001b[39m\u001b[38;5;241m1\u001b[39m][\u001b[38;5;241m0\u001b[39m] \u001b[38;5;241m==\u001b[39m c: \u001b[38;5;66;03m# check if stack is not empty\u001b[39;00m\n\u001b[1;32m      6\u001b[0m     stck[\u001b[38;5;241m-\u001b[39m\u001b[38;5;241m1\u001b[39m][\u001b[38;5;241m1\u001b[39m]\u001b[38;5;241m+\u001b[39m\u001b[38;5;241m=\u001b[39m\u001b[38;5;241m1\u001b[39m\n\u001b[0;32m----> 7\u001b[0m     \u001b[38;5;28;01mif\u001b[39;00m stck[\u001b[38;5;241m-\u001b[39m\u001b[38;5;241m1\u001b[39m][\u001b[38;5;241m1\u001b[39m] \u001b[38;5;241m==\u001b[39m \u001b[43mk\u001b[49m:\n\u001b[1;32m      8\u001b[0m         stck\u001b[38;5;241m.\u001b[39mpop()\n\u001b[1;32m      9\u001b[0m \u001b[38;5;28;01melse\u001b[39;00m:\n",
      "\u001b[0;31mNameError\u001b[0m: name 'k' is not defined"
     ]
    }
   ],
   "source": [
    "candyCrush(test1)"
   ]
  },
  {
   "cell_type": "code",
   "execution_count": 70,
   "id": "ed61caed",
   "metadata": {},
   "outputs": [
    {
     "data": {
      "text/plain": [
       "['A', 'B', 'B']"
      ]
     },
     "execution_count": 70,
     "metadata": {},
     "output_type": "execute_result"
    }
   ],
   "source": [
    "candyCrush(test2)"
   ]
  },
  {
   "cell_type": "code",
   "execution_count": 52,
   "id": "ccaa799d",
   "metadata": {},
   "outputs": [
    {
     "data": {
      "text/plain": [
       "['A']"
      ]
     },
     "execution_count": 52,
     "metadata": {},
     "output_type": "execute_result"
    }
   ],
   "source": [
    "candyCrush(test3)"
   ]
  },
  {
   "cell_type": "code",
   "execution_count": 75,
   "id": "1ed4d94b",
   "metadata": {},
   "outputs": [],
   "source": [
    "class Solution:\n",
    "    def removeDuplicates(self, s: str, k: int) -> str:        \n",
    "        stck = []    \n",
    "        \n",
    "        for c in s:                            \n",
    "            if stck and stck[-1][0] == c: # check if stack is not empty\n",
    "                stck[-1][1]+=1\n",
    "                if stck[-1][1] == k:\n",
    "                    stck.pop()\n",
    "            else:\n",
    "                stck.append([c, 1])            \n",
    "        \n",
    "        return ''.join(c * cnt for c, cnt in stck)    "
   ]
  },
  {
   "cell_type": "code",
   "execution_count": 76,
   "id": "f09a5b05",
   "metadata": {},
   "outputs": [],
   "source": [
    "func = Solution()"
   ]
  },
  {
   "cell_type": "code",
   "execution_count": 77,
   "id": "7dff74fb",
   "metadata": {},
   "outputs": [
    {
     "data": {
      "text/plain": [
       "'ACC'"
      ]
     },
     "execution_count": 77,
     "metadata": {},
     "output_type": "execute_result"
    }
   ],
   "source": [
    "func.removeDuplicates(test1,3)"
   ]
  },
  {
   "cell_type": "code",
   "execution_count": 78,
   "id": "a38eab01",
   "metadata": {},
   "outputs": [
    {
     "data": {
      "text/plain": [
       "'A'"
      ]
     },
     "execution_count": 78,
     "metadata": {},
     "output_type": "execute_result"
    }
   ],
   "source": [
    "func.removeDuplicates(test2,3)"
   ]
  },
  {
   "cell_type": "code",
   "execution_count": 79,
   "id": "04176f03",
   "metadata": {},
   "outputs": [
    {
     "data": {
      "text/plain": [
       "'C'"
      ]
     },
     "execution_count": 79,
     "metadata": {},
     "output_type": "execute_result"
    }
   ],
   "source": [
    "func.removeDuplicates(test3,3)"
   ]
  },
  {
   "cell_type": "code",
   "execution_count": 99,
   "id": "7b89d022",
   "metadata": {},
   "outputs": [],
   "source": [
    "# class Solution2:\n",
    "#     def removeDuplicates(self, s: str, k: int) -> str:\n",
    "#         myStack = []\n",
    "#         output = \"\"\n",
    "#         for i, c in enumerate(s):\n",
    "#             if c == s[i-1] and len(myStack) != 0:\n",
    "#                 if myStack[-1] < k:\n",
    "#                     myStack[-1] += 1\n",
    "#                 else:\n",
    "#                     myStack.append(1)\n",
    "#             else:\n",
    "#                 myStack.append(1)\n",
    "#         #print(myStack)\n",
    "#         if k in myStack:\n",
    "#             count_ind = 0\n",
    "#             for i in myStack:\n",
    "#                 if i != k:\n",
    "#                     output += s[count_ind: count_ind + i]\n",
    "#                 count_ind += i\n",
    "#             return self.removeDuplicates(output, k)\n",
    "#         else:\n",
    "#             return s\n",
    "class Solution2:\n",
    "    def removeDuplicates(self, s: str, k: int) -> str:\n",
    "        myStack = []\n",
    "        output = \"\"\n",
    "        for i, c in enumerate(s):\n",
    "            if c != s[i-1] or len(myStack) == 0:\n",
    "                myStack.append(1)\n",
    "            else:#elif myStack[-1] < k:\n",
    "                myStack[-1] += 1\n",
    "                    \n",
    "        #print(myStack)\n",
    "        #print(f'max: {max(myStack)}')\n",
    "        myMax = max(myStack)\n",
    "        if myMax >= k:\n",
    "            count_ind = 0\n",
    "            for i in myStack:\n",
    "                if i != k:\n",
    "                    output += s[count_ind: count_ind + i]\n",
    "                count_ind += i\n",
    "            return self.removeDuplicates(output, k)\n",
    "        else:\n",
    "            return s\n"
   ]
  },
  {
   "cell_type": "code",
   "execution_count": 100,
   "id": "8b80b47d",
   "metadata": {},
   "outputs": [],
   "source": [
    "str1, str2, str3 = \"\", \"\", \"\" \n",
    "\n",
    "for s in test1:\n",
    "    str1 += s\n",
    "for s in test2:\n",
    "    str2 += s\n",
    "for s in test3:\n",
    "    str3 += s"
   ]
  },
  {
   "cell_type": "code",
   "execution_count": 101,
   "id": "2ab2b93b",
   "metadata": {},
   "outputs": [
    {
     "name": "stdout",
     "output_type": "stream",
     "text": [
      "['A', 'B', 'B', 'B', 'C', 'C'] --> ACC\n",
      "['A', 'B', 'C', 'C', 'C', 'B', 'B'] --> A\n",
      "['A', 'B', 'C', 'C', 'C', 'B', 'B', 'A', 'A', 'C'] --> C\n"
     ]
    }
   ],
   "source": [
    "removeDuplicates = Solution2()\n",
    "\n",
    "print(test1,\"-->\", removeDuplicates.removeDuplicates(str1, 3))\n",
    "print(test2, \"-->\",removeDuplicates.removeDuplicates(str2, 3))\n",
    "print(test3, \"-->\",removeDuplicates.removeDuplicates(str3, 3))"
   ]
  },
  {
   "cell_type": "code",
   "execution_count": null,
   "id": "a25c852d",
   "metadata": {},
   "outputs": [],
   "source": []
  }
 ],
 "metadata": {
  "kernelspec": {
   "display_name": "Python 3 (ipykernel)",
   "language": "python",
   "name": "python3"
  },
  "language_info": {
   "codemirror_mode": {
    "name": "ipython",
    "version": 3
   },
   "file_extension": ".py",
   "mimetype": "text/x-python",
   "name": "python",
   "nbconvert_exporter": "python",
   "pygments_lexer": "ipython3",
   "version": "3.8.16"
  }
 },
 "nbformat": 4,
 "nbformat_minor": 5
}
