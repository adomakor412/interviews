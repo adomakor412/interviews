{
 "cells": [
  {
   "cell_type": "code",
   "execution_count": 5,
   "id": "bf138af1-cb34-4933-a506-40f46df82ddf",
   "metadata": {},
   "outputs": [],
   "source": [
    "from math import inf"
   ]
  },
  {
   "cell_type": "code",
   "execution_count": 6,
   "id": "08931f5b-53d5-431d-925a-b393254529a0",
   "metadata": {},
   "outputs": [],
   "source": [
    "def minAreaSquare(pointList):\n",
    "    areaSquare = 0\n",
    "    minX, minY = inf, inf\n",
    "    maxX, maxY = -inf,-inf\n",
    "    for x,y in pointList:\n",
    "        minX = min(minX, x)\n",
    "        maxX = max(maxX, x)\n",
    "        minY = min(minY, y)\n",
    "        maxY = max(maxY, y)\n",
    "    areaSquare = ( max(abs(maxY-minY), abs(maxX-minX))+2  )**2\n",
    "    return areaSquare"
   ]
  },
  {
   "cell_type": "markdown",
   "id": "1ee586b2-c871-4989-8e5e-1b3b667df81c",
   "metadata": {},
   "source": [
    "https://leetcode.com/discuss/post/2585538/minimum-area-of-square-by-anonymous_user-eggs/"
   ]
  },
  {
   "cell_type": "code",
   "execution_count": 7,
   "id": "d8ab57a9-87df-4de4-a7f9-c6b0f0778300",
   "metadata": {},
   "outputs": [
    {
     "data": {
      "text/plain": [
       "36"
      ]
     },
     "execution_count": 7,
     "metadata": {},
     "output_type": "execute_result"
    }
   ],
   "source": [
    "pointList1 = [[0,0],[2,4]]\n",
    "minAreaSquare(pointList1)"
   ]
  },
  {
   "cell_type": "code",
   "execution_count": 8,
   "id": "e95bb842-2ae5-44e8-bcb0-f2aa4bc18778",
   "metadata": {},
   "outputs": [
    {
     "data": {
      "text/plain": [
       "81"
      ]
     },
     "execution_count": 8,
     "metadata": {},
     "output_type": "execute_result"
    }
   ],
   "source": [
    "pointList1 = [[0,0],[2,7]]\n",
    "minAreaSquare(pointList1)"
   ]
  },
  {
   "cell_type": "code",
   "execution_count": null,
   "id": "d062136a-7c8a-4d3a-96fc-48bf776e25b8",
   "metadata": {},
   "outputs": [],
   "source": []
  }
 ],
 "metadata": {
  "kernelspec": {
   "display_name": "Python 3 (ipykernel)",
   "language": "python",
   "name": "python3"
  },
  "language_info": {
   "codemirror_mode": {
    "name": "ipython",
    "version": 3
   },
   "file_extension": ".py",
   "mimetype": "text/x-python",
   "name": "python",
   "nbconvert_exporter": "python",
   "pygments_lexer": "ipython3",
   "version": "3.12.2"
  }
 },
 "nbformat": 4,
 "nbformat_minor": 5
}
