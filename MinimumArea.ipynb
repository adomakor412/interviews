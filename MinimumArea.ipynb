{
 "cells": [
  {
   "cell_type": "code",
   "execution_count": 10,
   "id": "bf138af1-cb34-4933-a506-40f46df82ddf",
   "metadata": {},
   "outputs": [],
   "source": [
    "from math import inf"
   ]
  },
  {
   "cell_type": "code",
   "execution_count": 13,
   "id": "08931f5b-53d5-431d-925a-b393254529a0",
   "metadata": {},
   "outputs": [],
   "source": [
    "def minAreaSquare(pointList):\n",
    "    areaSquare = 0\n",
    "    minX, minY = inf, inf\n",
    "    maxX, maxY = -inf,-inf\n",
    "    for x,y in pointList:\n",
    "        minX = min(minX, x)\n",
    "        maxX = max(maxX, x)\n",
    "        minY = min(minY, y)\n",
    "        maxY = max(maxY, y)\n",
    "    areaSquare = max(abs(maxY-minY), abs(maxX-minX))**2\n",
    "    return areaSquare"
   ]
  },
  {
   "cell_type": "markdown",
   "id": "1ee586b2-c871-4989-8e5e-1b3b667df81c",
   "metadata": {},
   "source": [
    "https://leetcode.com/discuss/post/2585538/minimum-area-of-square-by-anonymous_user-eggs/"
   ]
  },
  {
   "cell_type": "code",
   "execution_count": null,
   "id": "d8ab57a9-87df-4de4-a7f9-c6b0f0778300",
   "metadata": {},
   "outputs": [],
   "source": []
  }
 ],
 "metadata": {
  "kernelspec": {
   "display_name": "Python 3 (ipykernel)",
   "language": "python",
   "name": "python3"
  },
  "language_info": {
   "codemirror_mode": {
    "name": "ipython",
    "version": 3
   },
   "file_extension": ".py",
   "mimetype": "text/x-python",
   "name": "python",
   "nbconvert_exporter": "python",
   "pygments_lexer": "ipython3",
   "version": "3.12.2"
  }
 },
 "nbformat": 4,
 "nbformat_minor": 5
}
