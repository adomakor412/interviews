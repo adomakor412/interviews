{
 "cells": [
  {
   "cell_type": "code",
   "execution_count": 13,
   "id": "d0ff5134-1c67-494f-b67f-1b94d832b936",
   "metadata": {},
   "outputs": [],
   "source": [
    "from collections import Counter\n",
    "\n",
    "def getAnagram(s):\n",
    "    #n = -1\n",
    "    length = len(s)\n",
    "    if length%2 != 0:\n",
    "        #pass\n",
    "        return -1\n",
    "    else:\n",
    "        first_half, second_half = s[:length//2], s[length//2:]\n",
    "\n",
    "        #Count frequencies\n",
    "        count1 = Counter(first_half)\n",
    "        count2 = Counter(second_half)\n",
    "\n",
    "        #Calculate replacements\n",
    "        n = 0\n",
    "        for digit in count1:\n",
    "            if count1[digit] > count2[digit]:\n",
    "                n+= count1[digit] - count2[digit]\n",
    "        return n"
   ]
  },
  {
   "cell_type": "code",
   "execution_count": 14,
   "id": "2b761362-7972-4dbb-9142-711a116523a8",
   "metadata": {},
   "outputs": [
    {
     "data": {
      "text/plain": [
       "1"
      ]
     },
     "execution_count": 14,
     "metadata": {},
     "output_type": "execute_result"
    }
   ],
   "source": [
    "s = '123212'\n",
    "getAnagram(s)"
   ]
  },
  {
   "cell_type": "code",
   "execution_count": 17,
   "id": "7ffa47ba-16d4-4e7f-80c4-562a6a7a2c31",
   "metadata": {},
   "outputs": [],
   "source": [
    "first_half, second_half = s[:length//2], s[length//2:]\n",
    "\n",
    "#Count frequencies\n",
    "count1 = Counter(first_half)\n",
    "count2 = Counter(second_half)\n",
    "\n",
    "#Calculate replacements\n",
    "n = 0\n",
    "for digit in count1:\n",
    "    if count1[digit] > count2[digit]:\n",
    "        n+= count1[digit] - count2[digit]"
   ]
  },
  {
   "cell_type": "code",
   "execution_count": 18,
   "id": "4f35904d-ce44-44e6-821f-ddc51da09c2d",
   "metadata": {},
   "outputs": [
    {
     "data": {
      "text/plain": [
       "Counter({'1': 1, '2': 1, '3': 1})"
      ]
     },
     "execution_count": 18,
     "metadata": {},
     "output_type": "execute_result"
    }
   ],
   "source": [
    "count1"
   ]
  },
  {
   "cell_type": "code",
   "execution_count": 19,
   "id": "c89c1845-2ac8-4307-a4bf-807fe4f04c31",
   "metadata": {},
   "outputs": [
    {
     "data": {
      "text/plain": [
       "0"
      ]
     },
     "execution_count": 19,
     "metadata": {},
     "output_type": "execute_result"
    }
   ],
   "source": [
    "count1['4']"
   ]
  },
  {
   "cell_type": "code",
   "execution_count": null,
   "id": "2f8a814d-961d-446a-8aee-1b49d3afffca",
   "metadata": {},
   "outputs": [],
   "source": []
  }
 ],
 "metadata": {
  "kernelspec": {
   "display_name": "Python 3 (ipykernel)",
   "language": "python",
   "name": "python3"
  },
  "language_info": {
   "codemirror_mode": {
    "name": "ipython",
    "version": 3
   },
   "file_extension": ".py",
   "mimetype": "text/x-python",
   "name": "python",
   "nbconvert_exporter": "python",
   "pygments_lexer": "ipython3",
   "version": "3.12.2"
  }
 },
 "nbformat": 4,
 "nbformat_minor": 5
}
