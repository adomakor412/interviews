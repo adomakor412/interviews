{
 "cells": [
  {
   "cell_type": "code",
   "execution_count": 2,
   "metadata": {},
   "outputs": [],
   "source": [
    "str.join?"
   ]
  },
  {
   "cell_type": "code",
   "execution_count": 2,
   "metadata": {},
   "outputs": [
    {
     "data": {
      "text/plain": [
       "{1, 5, 343}"
      ]
     },
     "execution_count": 2,
     "metadata": {},
     "output_type": "execute_result"
    }
   ],
   "source": [
    "mySet = set([1,5,343])\n",
    "mySet\n"
   ]
  },
  {
   "cell_type": "code",
   "execution_count": 3,
   "metadata": {},
   "outputs": [
    {
     "data": {
      "text/plain": [
       "True"
      ]
     },
     "execution_count": 3,
     "metadata": {},
     "output_type": "execute_result"
    }
   ],
   "source": [
    "1 in mySet"
   ]
  },
  {
   "cell_type": "markdown",
   "metadata": {},
   "source": [
    "https://www.geeksforgeeks.org/find-minimum-difference-pair/\n",
    "\n",
    "https://stackoverflow.com/questions/12232930/finding-out-the-minimum-difference-between-elements-in-an-array"
   ]
  },
  {
   "cell_type": "code",
   "execution_count": 37,
   "metadata": {},
   "outputs": [
    {
     "name": "stdout",
     "output_type": "stream",
     "text": [
      "Minimum difference is 1\n"
     ]
    }
   ],
   "source": [
    "# Python Code\n",
    "class Solution:\n",
    "\t\t# Function to find minimum difference between any pair\n",
    "\t# of elements in an array.\n",
    "\tdef MinimumDifference(self, arr, n):\n",
    "\t\tif n < 2:\n",
    "\t\t\treturn float('inf')\n",
    "\t\tmid = n // 2\n",
    "\t\tleft = arr[:mid]\n",
    "\t\tright = arr[mid:]\n",
    "\n",
    "\t\tls = self.MinimumDifference(left, len(left))\n",
    "\t\trs = self.MinimumDifference(right, len(right))\n",
    "\t\tmg = self.mergeHelper(left, right, arr, len(left), len(right))\n",
    "\n",
    "\t\treturn min(mg, min(ls, rs))\n",
    "\n",
    "\tdef mergeHelper(self, left, right, arr, n1, n2):\n",
    "\t\ti, j, k = 0, 0, 0\n",
    "\t\tminDiff = float('inf')\n",
    "\n",
    "\t\twhile i < n1 and j < n2:\n",
    "\t\t\tif left[i] <= right[j]:\n",
    "\t\t\t\tminDiff = min(minDiff, right[j] - left[i])\n",
    "\t\t\t\tarr[k] = left[i]\n",
    "\t\t\t\ti += 1\n",
    "\t\t\telse:\n",
    "\t\t\t\tminDiff = min(minDiff, left[i] - right[j])\n",
    "\t\t\t\tarr[k] = right[j]\n",
    "\t\t\t\tj += 1\n",
    "\t\t\tk += 1\n",
    "\n",
    "\t\twhile i < n1:\n",
    "\t\t\tarr[k] = left[i]\n",
    "\t\t\ti += 1\n",
    "\t\t\tk += 1\n",
    "\t\twhile j < n2:\n",
    "\t\t\tarr[k] = right[j]\n",
    "\t\t\tj += 1\n",
    "\t\t\tk += 1\n",
    "\n",
    "\t\treturn minDiff\n",
    "\n",
    "\n",
    "# Driver Code\n",
    "arr = [1, 5, 3, 19, 18, 25]\n",
    "n = len(arr)\n",
    "sln = Solution()\n",
    "\n",
    "# Function call\n",
    "minDiff = sln.MinimumDifference(arr, n)\n",
    "print(\"Minimum difference is\", minDiff)\n",
    "\n",
    "# This code is contributed by Prasad Kandekar(prasad264)\n"
   ]
  },
  {
   "cell_type": "code",
   "execution_count": 5,
   "metadata": {},
   "outputs": [
    {
     "name": "stderr",
     "output_type": "stream",
     "text": [
      "E\n",
      "======================================================================\n",
      "ERROR: /Users/ronaldadomako/Library/Jupyter/runtime/kernel-b49b7461-4aee-44fc-a5f2-f588b28b2dd7 (unittest.loader._FailedTest)\n",
      "----------------------------------------------------------------------\n",
      "AttributeError: module '__main__' has no attribute '/Users/ronaldadomako/Library/Jupyter/runtime/kernel-b49b7461-4aee-44fc-a5f2-f588b28b2dd7'\n",
      "\n",
      "----------------------------------------------------------------------\n",
      "Ran 1 test in 0.005s\n",
      "\n",
      "FAILED (errors=1)\n"
     ]
    },
    {
     "ename": "SystemExit",
     "evalue": "True",
     "output_type": "error",
     "traceback": [
      "An exception has occurred, use %tb to see the full traceback.\n",
      "\u001b[0;31mSystemExit\u001b[0m\u001b[0;31m:\u001b[0m True\n"
     ]
    },
    {
     "name": "stderr",
     "output_type": "stream",
     "text": [
      "/opt/anaconda3/envs/DS/lib/python3.8/site-packages/IPython/core/interactiveshell.py:3513: UserWarning: To exit: use 'exit', 'quit', or Ctrl-D.\n",
      "  warn(\"To exit: use 'exit', 'quit', or Ctrl-D.\", stacklevel=1)\n"
     ]
    }
   ],
   "source": [
    "import unittest\n",
    "\n",
    "'''Write a function:\n",
    "def solution(A)\n",
    "that, given an array A of N integers, returns the smallest positive integer (greater than 0) that does not occur in A.\n",
    "\n",
    "For example, given A = [1, 3, 6, 4, 1, 2], the function should return 5.\n",
    "Given A = [1, 2, 3], the function should return 4.\n",
    "Given A = [−1, −3], the function should return 1.\n",
    "\n",
    "Write an efficient algorithm for the following assumptions:\n",
    "* N is an integer within the range [1..100,000];\n",
    "* each element of array A is an integer within the range [−1,000,000..1,000,000].\n",
    "'''\n",
    "\n",
    "def solution_a(A):\n",
    "    mySet = set()\n",
    "    for num in A:\n",
    "        mySet.add(num)\n",
    "    for i in range(len(mySet)):\n",
    "        if i not in mySet:\n",
    "            return(max(1,i))\n",
    "    return(max(mySet)+1)\n",
    "\n",
    "     \n",
    "class TestSolutionA(unittest.TestCase):\n",
    "\n",
    "  # Use code to generate random integer list. \n",
    "  # random.sample(range(-1000000, 1000000), 10)\n",
    "\n",
    "    def test_case0(self):\n",
    "      input_list = [1, 3, 6, 4, 1, 2]\n",
    "      val = solution_a(input_list)\n",
    "      self.assertEqual(val, 5)\n",
    "\n",
    "    def test_case1(self):\n",
    "      input_list = [1, 2, 3]\n",
    "      val = solution_a(input_list)\n",
    "      self.assertEqual(val, 4)\n",
    "\n",
    "    def test_case2(self):\n",
    "      input_list = [ -1, -3]\n",
    "      val = solution_a(input_list)\n",
    "      self.assertEqual(val, 1)\n",
    "\n",
    "    def test_case3(self):\n",
    "      input_list = [100000, 500, 10]\n",
    "      val = solution_a(input_list)\n",
    "      self.assertEqual(val, 11)\n",
    "\n",
    "    def test_case4(self):\n",
    "      input_list = [ -5, -10, -2, 0]\n",
    "      val = solution_a(input_list)\n",
    "      self.assertEqual(val, 1)\n",
    "\n",
    "    def test_case5(self):\n",
    "      input_list = [ -5, -10, -2, 0]\n",
    "      val = solution_a(input_list)\n",
    "      self.assertEqual(val, 1)\n",
    "\n",
    "    def test_case6(self):\n",
    "      input_list = [-266959, -559850, 667410, -370471, -695927, 170911, 658702, -737673, 370182, -285767]\n",
    "      val = solution_a(input_list)\n",
    "      self.assertEqual(val, 170912)\n",
    "\n",
    "    def test_case6(self):\n",
    "      input_list = [860108, 591722, -969778, -439377, -511718,\\\n",
    " -207087, -457298, 908118, 311622, 519103, -975605, -157567,\\\n",
    " -318617, -634176, 264219, -82032, -277682, -364746, -788141,\\\n",
    " 584287]\n",
    "      val = solution_a(input_list)\n",
    "      self.assertEqual(val, 264220)\n",
    "\n",
    "\n",
    "\n",
    "if __name__ == '__main__':\n",
    "    unittest.main()\n"
   ]
  },
  {
   "cell_type": "code",
   "execution_count": 6,
   "metadata": {},
   "outputs": [
    {
     "name": "stderr",
     "output_type": "stream",
     "text": [
      "E\n",
      "======================================================================\n",
      "ERROR: /Users/ronaldadomako/Library/Jupyter/runtime/kernel-b49b7461-4aee-44fc-a5f2-f588b28b2dd7 (unittest.loader._FailedTest)\n",
      "----------------------------------------------------------------------\n",
      "AttributeError: module '__main__' has no attribute '/Users/ronaldadomako/Library/Jupyter/runtime/kernel-b49b7461-4aee-44fc-a5f2-f588b28b2dd7'\n",
      "\n",
      "----------------------------------------------------------------------\n",
      "Ran 1 test in 0.002s\n",
      "\n",
      "FAILED (errors=1)\n"
     ]
    },
    {
     "ename": "SystemExit",
     "evalue": "True",
     "output_type": "error",
     "traceback": [
      "An exception has occurred, use %tb to see the full traceback.\n",
      "\u001b[0;31mSystemExit\u001b[0m\u001b[0;31m:\u001b[0m True\n"
     ]
    },
    {
     "name": "stderr",
     "output_type": "stream",
     "text": [
      "/opt/anaconda3/envs/DS/lib/python3.8/site-packages/IPython/core/interactiveshell.py:3513: UserWarning: To exit: use 'exit', 'quit', or Ctrl-D.\n",
      "  warn(\"To exit: use 'exit', 'quit', or Ctrl-D.\", stacklevel=1)\n"
     ]
    }
   ],
   "source": [
    "import unittest\n",
    "\n",
    "'''Write a function:\n",
    "def solution(A)\n",
    "that, given an array A of N integers, returns the smallest positive integer (greater than 0) that does not occur in A.\n",
    "\n",
    "For example, given A = [1, 3, 6, 4, 1, 2], the function should return 5.\n",
    "Given A = [1, 2, 3], the function should return 4.\n",
    "Given A = [−1, −3], the function should return 1.\n",
    "\n",
    "Write an efficient algorithm for the following assumptions:\n",
    "* N is an integer within the range [1..100,000];\n",
    "* each element of array A is an integer within the range [−1,000,000..1,000,000].\n",
    "'''\n",
    "\n",
    "def solution_a(A):\n",
    "\n",
    "  # If max value in A is negative, just return 1. \n",
    "  if max(A) <= 0 :\n",
    "    return 1\n",
    "\n",
    "  # Make the sorted list with positive integer numbers only. \n",
    "  A.sort() \n",
    "  sorted_positive_list = [ x for x in A if x>0 ]\n",
    "  \n",
    "  # Find the list of pair of integer with the difference between two numbers are bigger than 2.\n",
    "  for i in range(len(sorted_positive_list)-1):\n",
    "    diff = sorted_positive_list[i+1] - sorted_positive_list[i]\n",
    "    if diff >= 2:\n",
    "      # Assume the pair is (A, B) and there is the gap, then return A+1\n",
    "      return sorted_positive_list[i]+1\n",
    "  # If no element of this list of pair, just return max(sorted numbers) + 1\n",
    "  return max(sorted_positive_list)+1\n",
    "\n",
    "     \n",
    "class TestSolutionA(unittest.TestCase):\n",
    "\n",
    "  # Use code to generate random integer list. \n",
    "  # random.sample(range(-1000000, 1000000), 10)\n",
    "\n",
    "    def test_case0(self):\n",
    "      input_list = [1, 3, 6, 4, 1, 2]\n",
    "      val = solution_a(input_list)\n",
    "      self.assertEqual(val, 5)\n",
    "\n",
    "    def test_case1(self):\n",
    "      input_list = [1, 2, 3]\n",
    "      val = solution_a(input_list)\n",
    "      self.assertEqual(val, 4)\n",
    "\n",
    "    def test_case2(self):\n",
    "      input_list = [ -1, -3]\n",
    "      val = solution_a(input_list)\n",
    "      self.assertEqual(val, 1)\n",
    "\n",
    "    def test_case3(self):\n",
    "      input_list = [100000, 500, 10]\n",
    "      val = solution_a(input_list)\n",
    "      self.assertEqual(val, 11)\n",
    "\n",
    "    def test_case4(self):\n",
    "      input_list = [ -5, -10, -2, 0]\n",
    "      val = solution_a(input_list)\n",
    "      self.assertEqual(val, 1)\n",
    "\n",
    "    def test_case5(self):\n",
    "      input_list = [ -5, -10, -2, 0]\n",
    "      val = solution_a(input_list)\n",
    "      self.assertEqual(val, 1)\n",
    "\n",
    "    def test_case6(self):\n",
    "      input_list = [-266959, -559850, 667410, -370471, -695927, 170911, 658702, -737673, 370182, -285767]\n",
    "      val = solution_a(input_list)\n",
    "      self.assertEqual(val, 170912)\n",
    "\n",
    "    def test_case6(self):\n",
    "      input_list = [860108, 591722, -969778, -439377, -511718,\\\n",
    " -207087, -457298, 908118, 311622, 519103, -975605, -157567,\\\n",
    " -318617, -634176, 264219, -82032, -277682, -364746, -788141,\\\n",
    " 584287]\n",
    "      val = solution_a(input_list)\n",
    "      self.assertEqual(val, 264220)\n",
    "\n",
    "\n",
    "\n",
    "if __name__ == '__main__':\n",
    "    unittest.main()\n"
   ]
  },
  {
   "cell_type": "code",
   "execution_count": 7,
   "metadata": {},
   "outputs": [
    {
     "data": {
      "text/plain": [
       "5"
      ]
     },
     "execution_count": 7,
     "metadata": {},
     "output_type": "execute_result"
    }
   ],
   "source": [
    "10//2\n"
   ]
  },
  {
   "cell_type": "code",
   "execution_count": 8,
   "metadata": {},
   "outputs": [
    {
     "ename": "SyntaxError",
     "evalue": "cannot assign to literal (1996674012.py, line 1)",
     "output_type": "error",
     "traceback": [
      "\u001b[0;36m  Cell \u001b[0;32mIn[8], line 1\u001b[0;36m\u001b[0m\n\u001b[0;31m    10//=2\u001b[0m\n\u001b[0m    ^\u001b[0m\n\u001b[0;31mSyntaxError\u001b[0m\u001b[0;31m:\u001b[0m cannot assign to literal\n"
     ]
    }
   ],
   "source": [
    "10//=2"
   ]
  },
  {
   "cell_type": "code",
   "execution_count": 9,
   "metadata": {},
   "outputs": [
    {
     "data": {
      "text/plain": [
       "'0b1110111011'"
      ]
     },
     "execution_count": 9,
     "metadata": {},
     "output_type": "execute_result"
    }
   ],
   "source": [
    "bin(955)"
   ]
  },
  {
   "cell_type": "code",
   "execution_count": 12,
   "metadata": {},
   "outputs": [
    {
     "data": {
      "text/plain": [
       "10"
      ]
     },
     "execution_count": 12,
     "metadata": {},
     "output_type": "execute_result"
    }
   ],
   "source": [
    "len(bin(955))-2"
   ]
  },
  {
   "cell_type": "code",
   "execution_count": 30,
   "metadata": {},
   "outputs": [],
   "source": [
    "def solution(n):\n",
    "    d = [0] * (len(bin(n))-2)\n",
    "    l = 0\n",
    "    while (n > 0):\n",
    "        d[l] = n % 2\n",
    "        n //= 2\n",
    "        l += 1\n",
    "    for p in range(1, 1 + l):\n",
    "        ok = True\n",
    "        for i in range(l - p):\n",
    "            if d[i] != d[i + p]:\n",
    "                ok = False\n",
    "                break\n",
    "        if ok and p <= len(d)/2:\n",
    "            return p\n",
    "    return -1\n"
   ]
  },
  {
   "cell_type": "code",
   "execution_count": 35,
   "metadata": {},
   "outputs": [
    {
     "data": {
      "text/plain": [
       "4"
      ]
     },
     "execution_count": 35,
     "metadata": {},
     "output_type": "execute_result"
    }
   ],
   "source": [
    "solution(955)"
   ]
  },
  {
   "cell_type": "code",
   "execution_count": 34,
   "metadata": {},
   "outputs": [
    {
     "data": {
      "text/plain": [
       "2"
      ]
     },
     "execution_count": 34,
     "metadata": {},
     "output_type": "execute_result"
    }
   ],
   "source": [
    "solution(10)"
   ]
  },
  {
   "cell_type": "code",
   "execution_count": 33,
   "metadata": {},
   "outputs": [
    {
     "data": {
      "text/plain": [
       "-1"
      ]
     },
     "execution_count": 33,
     "metadata": {},
     "output_type": "execute_result"
    }
   ],
   "source": [
    "solution(1020)"
   ]
  },
  {
   "cell_type": "code",
   "execution_count": 36,
   "metadata": {},
   "outputs": [
    {
     "name": "stdout",
     "output_type": "stream",
     "text": [
      "[(1, 3, 4), (1, 3, 5), (1, 3, 2), (1, 4, 5), (1, 4, 2), (1, 5, 2), (3, 4, 5), (3, 4, 2), (3, 5, 2), (4, 5, 2)] p\n",
      "[(1, 4), (3, 2), (5,)]\n",
      "None he\n",
      "[(1, 3, 4, 2), (1, 4, 5), (3, 5, 2)]\n",
      "2048\n"
     ]
    }
   ],
   "source": [
    "import json\n",
    "from itertools import combinations, permutations\n",
    "\n",
    "\n",
    "class SearchByTag:\n",
    "\n",
    "    def __init__(self, data_file, query_tag):\n",
    "        with open(data_file) as data_file:\n",
    "            self._data = json.load(data_file)\n",
    "        self.query = query_tag\n",
    "\n",
    "    def search(self):\n",
    "        if not self.query or not self._data:\n",
    "            raise StopIteration\n",
    "        \n",
    "        try:\n",
    "            self._data['items']\n",
    "        except KeyError:\n",
    "            raise StopIteration\n",
    "    \n",
    "        for item in self._data['items']:\n",
    "            if not item:\n",
    "                raise StopIteration\n",
    "            \n",
    "            thing = item.get('tags', None)\n",
    "            \n",
    "            if not thing:\n",
    "                continue\n",
    "            \n",
    "            if self.query in thing:\n",
    "                yield item\n",
    "    \n",
    "\n",
    "    def first(self):\n",
    "        return self.search().__next__()\n"
   ]
  },
  {
   "cell_type": "code",
   "execution_count": 3,
   "metadata": {},
   "outputs": [],
   "source": [
    "import streamlit_authenticator as stauth "
   ]
  },
  {
   "cell_type": "code",
   "execution_count": 6,
   "metadata": {},
   "outputs": [],
   "source": [
    "#stauth.Authenticate?\n"
   ]
  },
  {
   "cell_type": "code",
   "execution_count": 7,
   "metadata": {},
   "outputs": [
    {
     "name": "stdout",
     "output_type": "stream",
     "text": [
      "Object `stauth.reset_password` not found.\n"
     ]
    }
   ],
   "source": [
    "#stauth.reset_password?"
   ]
  },
  {
   "cell_type": "code",
   "execution_count": 8,
   "metadata": {},
   "outputs": [],
   "source": [
    "#stauth.*?"
   ]
  },
  {
   "cell_type": "code",
   "execution_count": null,
   "metadata": {},
   "outputs": [],
   "source": []
  }
 ],
 "metadata": {
  "kernelspec": {
   "display_name": "Python 3 (ipykernel)",
   "language": "python",
   "name": "python3"
  },
  "language_info": {
   "codemirror_mode": {
    "name": "ipython",
    "version": 3
   },
   "file_extension": ".py",
   "mimetype": "text/x-python",
   "name": "python",
   "nbconvert_exporter": "python",
   "pygments_lexer": "ipython3",
   "version": "3.8.16"
  }
 },
 "nbformat": 4,
 "nbformat_minor": 4
}
