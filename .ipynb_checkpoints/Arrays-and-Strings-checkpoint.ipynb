{
 "cells": [
  {
   "cell_type": "code",
   "execution_count": 1,
   "metadata": {},
   "outputs": [
    {
     "name": "stdout",
     "output_type": "stream",
     "text": [
      "False\n",
      "True\n"
     ]
    }
   ],
   "source": [
    "'''\n",
    "Implement an algorithm to determine if a string has all unique characters. \n",
    "What if you cannot use additional data structures.\n",
    "'''\n",
    "\n",
    "def isUniqueString(aString):\n",
    "    catolog = {}\n",
    "    for char in aString:\n",
    "        if char in catolog.keys():\n",
    "            return False\n",
    "        catolog[char]=1\n",
    "    return True\n",
    "\n",
    "print(isUniqueString('This is a string'))\n",
    "print(isUniqueString('124'))"
   ]
  },
  {
   "cell_type": "code",
   "execution_count": 2,
   "metadata": {},
   "outputs": [
    {
     "name": "stdout",
     "output_type": "stream",
     "text": [
      "gnirts a si sihT\n",
      "421\n"
     ]
    }
   ],
   "source": [
    "'''\n",
    "Write code to reverse a C-Style String. \n",
    "(C-String means that “abcd” is represented as five characters, \n",
    "including the null character.)\n",
    "'''\n",
    "\n",
    "def reverseString(aString):\n",
    "    catolog = ''\n",
    "    for i in range(len(aString),0,-1):\n",
    "        catolog+=aString[i-1]\n",
    "    return catolog\n",
    "\n",
    "print(reverseString('This is a string'))\n",
    "print(reverseString('124'))"
   ]
  },
  {
   "cell_type": "code",
   "execution_count": 7,
   "metadata": {},
   "outputs": [
    {
     "name": "stdout",
     "output_type": "stream",
     "text": [
      "This atrng\n",
      "124\n",
      "a\n",
      "ab\n",
      "\n"
     ]
    }
   ],
   "source": [
    "'''\n",
    "Design an algorithm and write code to remove the duplicate characters in a string without using any additional buffer. NOTE: One or two additional variables are fine. An extra copy of the array is not.\n",
    "FOLLOW UP\n",
    "Write the test cases for this method.\n",
    "'''\n",
    "\n",
    "def remDupString(aString):\n",
    "    catolog = ''\n",
    "    for char in aString:\n",
    "        if char not in catolog:\n",
    "            catolog+=char\n",
    "    return catolog\n",
    "\n",
    "print(remDupString('This is a string')) #some duplicates\n",
    "print(remDupString('124')) #no duplicates\n",
    "print(remDupString('aaa')) #continuous\n",
    "print(remDupString('aaabbb')) #multiple continuous repeats\n",
    "print(remDupString('')) #null case"
   ]
  },
  {
   "cell_type": "code",
   "execution_count": null,
   "metadata": {},
   "outputs": [],
   "source": []
  }
 ],
 "metadata": {
  "kernelspec": {
   "display_name": "Python 3",
   "language": "python",
   "name": "python3"
  },
  "language_info": {
   "codemirror_mode": {
    "name": "ipython",
    "version": 3
   },
   "file_extension": ".py",
   "mimetype": "text/x-python",
   "name": "python",
   "nbconvert_exporter": "python",
   "pygments_lexer": "ipython3",
   "version": "3.7.6"
  }
 },
 "nbformat": 4,
 "nbformat_minor": 4
}
