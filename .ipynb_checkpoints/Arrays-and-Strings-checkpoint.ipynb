{
 "cells": [
  {
   "cell_type": "code",
   "execution_count": 1,
   "metadata": {},
   "outputs": [
    {
     "name": "stdout",
     "output_type": "stream",
     "text": [
      "False\n",
      "True\n"
     ]
    }
   ],
   "source": [
    "'''\n",
    "Implement an algorithm to determine if a string has all unique characters. \n",
    "What if you cannot use additional data structures.\n",
    "'''\n",
    "\n",
    "def isUniqueString(aString):\n",
    "    catolog = {}\n",
    "    for char in aString:\n",
    "        if char in catolog.keys():\n",
    "            return False\n",
    "        catolog[char]=1\n",
    "    return True\n",
    "\n",
    "print(isUniqueString('This is a string'))\n",
    "print(isUniqueString('124'))"
   ]
  },
  {
   "cell_type": "code",
   "execution_count": 2,
   "metadata": {},
   "outputs": [
    {
     "name": "stdout",
     "output_type": "stream",
     "text": [
      "gnirts a si sihT\n",
      "421\n"
     ]
    }
   ],
   "source": [
    "'''\n",
    "Write code to reverse a C-Style String. \n",
    "(C-String means that “abcd” is represented as five characters, \n",
    "including the null character.)\n",
    "'''\n",
    "\n",
    "def reverseString(aString):\n",
    "    catolog = ''\n",
    "    for i in range(len(aString),0,-1):\n",
    "        catolog+=aString[i-1]\n",
    "    return catolog\n",
    "\n",
    "print(reverseString('This is a string'))\n",
    "print(reverseString('124'))"
   ]
  },
  {
   "cell_type": "code",
   "execution_count": 7,
   "metadata": {},
   "outputs": [
    {
     "name": "stdout",
     "output_type": "stream",
     "text": [
      "This atrng\n",
      "124\n",
      "a\n",
      "ab\n",
      "\n"
     ]
    }
   ],
   "source": [
    "'''\n",
    "Design an algorithm and write code to remove the duplicate characters in a string without using any additional buffer. NOTE: One or two additional variables are fine. An extra copy of the array is not.\n",
    "FOLLOW UP\n",
    "Write the test cases for this method.\n",
    "'''\n",
    "\n",
    "def remDupString(aString):\n",
    "    catolog = ''\n",
    "    for char in aString:\n",
    "        if char not in catolog:\n",
    "            catolog+=char\n",
    "    return catolog\n",
    "\n",
    "print(remDupString('This is a string')) #some duplicates\n",
    "print(remDupString('124')) #no duplicates\n",
    "print(remDupString('aaa')) #continuous\n",
    "print(remDupString('aaabbb')) #multiple continuous repeats\n",
    "print(remDupString('')) #null case"
   ]
  },
  {
   "cell_type": "code",
   "execution_count": 24,
   "metadata": {},
   "outputs": [
    {
     "name": "stdout",
     "output_type": "stream",
     "text": [
      "False\n",
      "True\n"
     ]
    }
   ],
   "source": [
    "'''\n",
    "Write a method to decide if two strings are anagrams or not  \n",
    "'''\n",
    "\n",
    "# def method1(aString, bString):\n",
    "#     return sorted(aString)==sorted(bString)\n",
    "    \n",
    "def isAnagram(aString, bString):\n",
    "    catalog = {}\n",
    "    checkCatalog = {}\n",
    "\n",
    "    for s in aString:\n",
    "        catalog[s]= catalog.get(s,0)+1\n",
    "    for t in bString:\n",
    "        checkCatalog[t]= checkCatalog.get(t,0)+1\n",
    "        if checkCatalog[t] > catalog.get(t,0):\n",
    "            return False\n",
    "    return True\n",
    "    \n",
    "    \n",
    "print (isAnagram('aString', 'bString'))\n",
    "print (isAnagram('aString', 'aString'))"
   ]
  },
  {
   "cell_type": "code",
   "execution_count": 32,
   "metadata": {},
   "outputs": [
    {
     "name": "stdout",
     "output_type": "stream",
     "text": [
      "aString\n",
      "%20aString\n"
     ]
    }
   ],
   "source": [
    "'''\n",
    "Write a method to replace all spaces in a string with ‘%20’  \n",
    "'''\n",
    "\n",
    "def stringReplace(aString):\n",
    "    catalog = ''\n",
    "    for s in aString:\n",
    "        if s in [' ','\\n','\\t']:\n",
    "            catalog+='%20'\n",
    "        else:\n",
    "            catalog+=s\n",
    "    return catalog\n",
    "\n",
    "print (stringReplace('aString'))\n",
    "print (stringReplace(' aString'))"
   ]
  },
  {
   "cell_type": "code",
   "execution_count": 8,
   "metadata": {},
   "outputs": [
    {
     "name": "stdout",
     "output_type": "stream",
     "text": [
      "[[2, 1]]\n",
      "[[2, 1], [4, 3]]\n",
      "[[2], [1]]\n",
      "[[4, 2], [3, 1]]\n"
     ]
    }
   ],
   "source": [
    "'''\n",
    "Given an image represented by an NxN matrix, \n",
    "where each pixel in the image is 4 bytes, \n",
    "write a method to rotate the image by 90 degrees    \n",
    "Can you do this in place?\n",
    "'''\n",
    "\n",
    "def arrRotate(array2D,num90dClock):\n",
    "    for i in range(num90dClock-1):\n",
    "        array2D = arrRotate(array2D,1)\n",
    "    cols = len(array2D[0])\n",
    "    outArray = [ [] for _ in range(cols) ]\n",
    "    \n",
    "    for row in array2D:\n",
    "        for col in range(cols):\n",
    "            outArray[col].insert(-1,row[col])\n",
    "    return outArray\n",
    "\n",
    "print ( arrRotate([[1],[2]],1) )\n",
    "print ( arrRotate([[1,3],[2,4]],1) )\n",
    "print ( arrRotate([[1],[2]],2) )\n",
    "print ( arrRotate([[1,3],[2,4]],2) )"
   ]
  },
  {
   "cell_type": "code",
   "execution_count": null,
   "metadata": {},
   "outputs": [],
   "source": []
  }
 ],
 "metadata": {
  "kernelspec": {
   "display_name": "Python 3",
   "language": "python",
   "name": "python3"
  },
  "language_info": {
   "codemirror_mode": {
    "name": "ipython",
    "version": 3
   },
   "file_extension": ".py",
   "mimetype": "text/x-python",
   "name": "python",
   "nbconvert_exporter": "python",
   "pygments_lexer": "ipython3",
   "version": "3.7.6"
  }
 },
 "nbformat": 4,
 "nbformat_minor": 4
}
