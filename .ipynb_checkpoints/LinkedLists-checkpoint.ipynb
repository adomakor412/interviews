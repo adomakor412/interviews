{
 "cells": [
  {
   "cell_type": "code",
   "execution_count": 1,
   "metadata": {},
   "outputs": [
    {
     "name": "stdout",
     "output_type": "stream",
     "text": [
      "3\n",
      "2\n",
      "1\n",
      "\n",
      "\n",
      "2\n",
      "1\n"
     ]
    }
   ],
   "source": [
    "#https://learning.oreilly.com/videos/designing-data-structures/9781491928622\n",
    "#Designing Data Structures in Python by George T. Heineman\n",
    "\n",
    "'''\n",
    "Write code to remove duplicates from an unsorted linked list\n",
    "\n",
    "FOLLOW UP\n",
    "How would you solve this problem if a temporary buffer is not allowed?\n",
    "'''\n",
    "\n",
    "class MyLinkedNode:# DEFINES ITER TYPELitt\n",
    "    def __init__(self, value, tail = None):\n",
    "        self.value = value\n",
    "        self.next = tail\n",
    "        \n",
    "class MyLinkedList:\n",
    "    def __init__(self,*start):\n",
    "        self.head = None\n",
    "        self.tail = None\n",
    "        self.count = 0\n",
    "        start= list(start)\n",
    "        start.reverse()\n",
    "        for _ in start:\n",
    "            self.prepend(_)\n",
    "            \n",
    "    def __iter__(self):#Otherwise won't be able to print each value\n",
    "        n = self.head\n",
    "        while n != None:\n",
    "            yield n.value\n",
    "            n = n.next\n",
    "            \n",
    "    def prepend(self, value):\n",
    "        self.head = MyLinkedNode(value, self.head)\n",
    "        self.count += 1\n",
    "    \n",
    "    def remove_first(self, value):\n",
    "        n = self.head\n",
    "        last = None #track if at the end\n",
    "        while n != None:\n",
    "            if n.value == value:\n",
    "                if last == None: #either first element match or end of linkedlist\n",
    "                    self.head = self.head.next\n",
    "                else:\n",
    "                    last.next = n.value #simply notes last value remove\n",
    "                self.count -=1\n",
    "                return True\n",
    "            \n",
    "            n=n.next\n",
    "        return False\n",
    "            \n",
    "            \n",
    "\n",
    "aLinkedList = MyLinkedList()\n",
    "aLinkedList.prepend(1)\n",
    "aLinkedList.prepend(2)\n",
    "aLinkedList.prepend(3)\n",
    "for _ in aLinkedList:\n",
    "    print(_)\n",
    "    \n",
    "print('\\n')\n",
    "\n",
    "aLinkedList.remove_first(2)\n",
    "for _ in aLinkedList:\n",
    "    print(_)"
   ]
  },
  {
   "cell_type": "code",
   "execution_count": 2,
   "metadata": {},
   "outputs": [
    {
     "name": "stdout",
     "output_type": "stream",
     "text": [
      "3\n",
      "2\n",
      "1\n",
      "\n",
      "\n"
     ]
    },
    {
     "ename": "AttributeError",
     "evalue": "'NoneType' object has no attribute 'next'",
     "output_type": "error",
     "traceback": [
      "\u001b[0;31m---------------------------------------------------------------------------\u001b[0m",
      "\u001b[0;31mAttributeError\u001b[0m                            Traceback (most recent call last)",
      "\u001b[0;32m<ipython-input-2-aba17a3dcba2>\u001b[0m in \u001b[0;36m<module>\u001b[0;34m\u001b[0m\n\u001b[1;32m     36\u001b[0m     \u001b[0mprint\u001b[0m\u001b[0;34m(\u001b[0m\u001b[0m_\u001b[0m\u001b[0;34m)\u001b[0m\u001b[0;34m\u001b[0m\u001b[0;34m\u001b[0m\u001b[0m\n\u001b[1;32m     37\u001b[0m \u001b[0mprint\u001b[0m\u001b[0;34m(\u001b[0m\u001b[0;34m'\\n'\u001b[0m\u001b[0;34m)\u001b[0m\u001b[0;34m\u001b[0m\u001b[0;34m\u001b[0m\u001b[0m\n\u001b[0;32m---> 38\u001b[0;31m \u001b[0mprint\u001b[0m\u001b[0;34m(\u001b[0m\u001b[0maLinkedList\u001b[0m\u001b[0;34m.\u001b[0m\u001b[0mfindN2Last\u001b[0m\u001b[0;34m(\u001b[0m\u001b[0;36m1\u001b[0m\u001b[0;34m)\u001b[0m\u001b[0;34m)\u001b[0m\u001b[0;34m\u001b[0m\u001b[0;34m\u001b[0m\u001b[0m\n\u001b[0m\u001b[1;32m     39\u001b[0m \u001b[0mprint\u001b[0m\u001b[0;34m(\u001b[0m\u001b[0;34m'\\n'\u001b[0m\u001b[0;34m)\u001b[0m\u001b[0;34m\u001b[0m\u001b[0;34m\u001b[0m\u001b[0m\n\u001b[1;32m     40\u001b[0m \u001b[0mprint\u001b[0m\u001b[0;34m(\u001b[0m\u001b[0maLinkedList\u001b[0m\u001b[0;34m.\u001b[0m\u001b[0mfindN2Last\u001b[0m\u001b[0;34m(\u001b[0m\u001b[0;36m2\u001b[0m\u001b[0;34m)\u001b[0m\u001b[0;34m)\u001b[0m\u001b[0;34m\u001b[0m\u001b[0;34m\u001b[0m\u001b[0m\n",
      "\u001b[0;32m<ipython-input-2-aba17a3dcba2>\u001b[0m in \u001b[0;36mfindN2Last\u001b[0;34m(self, n)\u001b[0m\n\u001b[1;32m     24\u001b[0m             \u001b[0mmyCount\u001b[0m \u001b[0;34m+=\u001b[0m \u001b[0;36m1\u001b[0m\u001b[0;34m\u001b[0m\u001b[0;34m\u001b[0m\u001b[0m\n\u001b[1;32m     25\u001b[0m             \u001b[0mself\u001b[0m\u001b[0;34m.\u001b[0m\u001b[0mhead\u001b[0m \u001b[0;34m=\u001b[0m \u001b[0mself\u001b[0m\u001b[0;34m.\u001b[0m\u001b[0mtail\u001b[0m\u001b[0;34m\u001b[0m\u001b[0;34m\u001b[0m\u001b[0m\n\u001b[0;32m---> 26\u001b[0;31m             \u001b[0mself\u001b[0m\u001b[0;34m.\u001b[0m\u001b[0mtail\u001b[0m \u001b[0;34m=\u001b[0m \u001b[0mself\u001b[0m\u001b[0;34m.\u001b[0m\u001b[0mhead\u001b[0m\u001b[0;34m.\u001b[0m\u001b[0mnext\u001b[0m\u001b[0;34m\u001b[0m\u001b[0;34m\u001b[0m\u001b[0m\n\u001b[0m\u001b[1;32m     27\u001b[0m         \u001b[0;32mreturn\u001b[0m \u001b[0mself\u001b[0m\u001b[0;34m.\u001b[0m\u001b[0mhead\u001b[0m\u001b[0;34m\u001b[0m\u001b[0;34m\u001b[0m\u001b[0m\n\u001b[1;32m     28\u001b[0m \u001b[0;34m\u001b[0m\u001b[0m\n",
      "\u001b[0;31mAttributeError\u001b[0m: 'NoneType' object has no attribute 'next'"
     ]
    }
   ],
   "source": [
    "'''\n",
    "Implement an algorithm to find the nth to last element of a singly linked list.\n",
    "'''\n",
    "\n",
    "class FindN2Last(MyLinkedList):\n",
    "            \n",
    "    def __init__(self, *start):\n",
    "        self.head = None\n",
    "        self.tail = None\n",
    "        self.count = 0\n",
    "        start= list(start)\n",
    "        start.reverse()\n",
    "        for _ in start:\n",
    "            self.prepend(_)\n",
    "        return\n",
    "    \n",
    "    def findN2Last(self,n):\n",
    "        myCount = 0\n",
    "        head = self.head\n",
    "        if n>= self.count:\n",
    "            return self.head\n",
    "        elif not isinstance(n,int):\n",
    "            return\"Your input is not a number; pick a number >= 0\"\n",
    "        while (self.count-myCount)> n:\n",
    "            myCount += 1\n",
    "            self.head = self.tail\n",
    "            self.tail = head.next\n",
    "        return self.head\n",
    "\n",
    "        \n",
    "aLinkedList = FindN2Last()\n",
    "aLinkedList.prepend(1)\n",
    "aLinkedList.prepend(2)\n",
    "aLinkedList.prepend(3)\n",
    "\n",
    "for _ in aLinkedList:\n",
    "    print(_)\n",
    "print('\\n')\n",
    "print(aLinkedList.findN2Last(1))\n",
    "print('\\n')\n",
    "print(aLinkedList.findN2Last(2))\n"
   ]
  }
 ],
 "metadata": {
  "kernelspec": {
   "display_name": "Python 3",
   "language": "python",
   "name": "python3"
  },
  "language_info": {
   "codemirror_mode": {
    "name": "ipython",
    "version": 3
   },
   "file_extension": ".py",
   "mimetype": "text/x-python",
   "name": "python",
   "nbconvert_exporter": "python",
   "pygments_lexer": "ipython3",
   "version": "3.7.6"
  }
 },
 "nbformat": 4,
 "nbformat_minor": 4
}
