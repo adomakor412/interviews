{
 "cells": [
  {
   "cell_type": "code",
   "execution_count": 17,
   "metadata": {},
   "outputs": [
    {
     "name": "stdout",
     "output_type": "stream",
     "text": [
      "<__main__.MyLinkedList object at 0x7f9fded24190>\n"
     ]
    }
   ],
   "source": [
    "'''\n",
    "Write code to remove duplicates from an unsorted linked list\n",
    "\n",
    "FOLLOW UP\n",
    "How would you solve this problem if a temporary buffer is not allowed?\n",
    "'''\n",
    "\n",
    "class MyLinkedNode:\n",
    "    def __init__(self, value, tail = None):\n",
    "        self.value = value\n",
    "        self.next = tail\n",
    "        \n",
    "class MyLinkedList:\n",
    "    def __init__(self,*start):\n",
    "        self.head = None\n",
    "        self.tail = None\n",
    "        self.count = 0\n",
    "        start= list(start)\n",
    "        start.reverse()\n",
    "        for _ in start:\n",
    "            self.prepend(_)\n",
    "            \n",
    "    def prepend(self, value):\n",
    "        self.head = MyLinkedNode(value, self.head)\n",
    "        self.count += 1\n",
    "            \n",
    "\n",
    "aLinkedList = MyLinkedList('hello world')\n",
    "print(aLinkedList)"
   ]
  }
 ],
 "metadata": {
  "kernelspec": {
   "display_name": "Python 3",
   "language": "python",
   "name": "python3"
  },
  "language_info": {
   "codemirror_mode": {
    "name": "ipython",
    "version": 3
   },
   "file_extension": ".py",
   "mimetype": "text/x-python",
   "name": "python",
   "nbconvert_exporter": "python",
   "pygments_lexer": "ipython3",
   "version": "3.7.6"
  }
 },
 "nbformat": 4,
 "nbformat_minor": 4
}
