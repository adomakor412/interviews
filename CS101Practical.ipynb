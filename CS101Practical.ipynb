{
 "cells": [
  {
   "cell_type": "code",
   "execution_count": 1,
   "id": "4fd113da-03bf-4d14-bfaf-6e80648e19e2",
   "metadata": {},
   "outputs": [],
   "source": [
    "import turtle\n"
   ]
  },
  {
   "cell_type": "markdown",
   "id": "31b2e7d6-d81e-4635-8c95-d818205570f0",
   "metadata": {},
   "source": [
    "# Set up template"
   ]
  },
  {
   "cell_type": "code",
   "execution_count": 2,
   "id": "f6b8c06f-83ba-4ca1-a576-9dddc72708fa",
   "metadata": {},
   "outputs": [],
   "source": [
    "wn = turtle.Screen()\n",
    "wn.bgcolor(\"white\")\n",
    "robot = turtle.Turtle()\n",
    "robot.setheading(90)\n",
    "robot.shape(\"turtle\")\n",
    "robot.color(\"green\")\n",
    "robot.pensize(3)\n",
    "#YOUR PROGRAM GOES HERE\n",
    "wn.exitonclick()"
   ]
  },
  {
   "cell_type": "code",
   "execution_count": null,
   "id": "6fb6e434-68af-4523-b130-86ff55daa709",
   "metadata": {},
   "outputs": [],
   "source": []
  }
 ],
 "metadata": {
  "kernelspec": {
   "display_name": "Python 3 (ipykernel)",
   "language": "python",
   "name": "python3"
  },
  "language_info": {
   "codemirror_mode": {
    "name": "ipython",
    "version": 3
   },
   "file_extension": ".py",
   "mimetype": "text/x-python",
   "name": "python",
   "nbconvert_exporter": "python",
   "pygments_lexer": "ipython3",
   "version": "3.12.2"
  }
 },
 "nbformat": 4,
 "nbformat_minor": 5
}
